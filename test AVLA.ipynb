{
 "cells": [
  {
   "cell_type": "markdown",
   "metadata": {},
   "source": [
    "## 1. Se cargan librerías a utilizar"
   ]
  },
  {
   "cell_type": "code",
   "execution_count": 1,
   "metadata": {},
   "outputs": [],
   "source": [
    "# Data handling\n",
    "import pandas as pd\n",
    "import numpy as np\n",
    "\n",
    "# Plotting\n",
    "import matplotlib.pyplot as plt\n",
    "%matplotlib inline\n",
    "import matplotlib\n",
    "matplotlib.rcParams['font.size'] = 16\n",
    "matplotlib.rcParams['figure.figsize'] = (8, 8)\n",
    "import seaborn as sns\n",
    "from IPython.core.pylabtools import figsize\n",
    "\n",
    "from sklearn.model_selection import train_test_split\n",
    "from sklearn import metrics\n",
    "from sklearn.decomposition import PCA\n",
    "from sklearn import preprocessing\n",
    "\n",
    "# Models\n",
    "from sklearn import linear_model\n",
    "from sklearn.tree import DecisionTreeClassifier\n",
    "from sklearn import svm\n",
    "from sklearn.naive_bayes import GaussianNB\n",
    "from sklearn.neighbors import KNeighborsClassifier\n",
    "from sklearn.ensemble import GradientBoostingClassifier\n",
    "from sklearn.ensemble import RandomForestClassifier\n",
    "\n",
    "# Cross-validation\n",
    "from sklearn.model_selection import cross_val_predict\n",
    "from sklearn.model_selection import cross_val_score\n",
    "\n",
    "np.random.seed(42)"
   ]
  },
  {
   "cell_type": "markdown",
   "metadata": {},
   "source": [
    "## 2. Carga de datos y manipulación de algunas columnas"
   ]
  },
  {
   "cell_type": "code",
   "execution_count": 2,
   "metadata": {},
   "outputs": [],
   "source": [
    "link = 'data_desafio_seguros.txt'"
   ]
  },
  {
   "cell_type": "code",
   "execution_count": 3,
   "metadata": {},
   "outputs": [],
   "source": [
    "df = pd.read_csv(link, delimiter=\",\")"
   ]
  },
  {
   "cell_type": "code",
   "execution_count": 4,
   "metadata": {},
   "outputs": [],
   "source": [
    "col_actuales = df.columns\n",
    "col_nuevas = []\n",
    "for col in col_actuales:\n",
    "    if col == 'row_id':\n",
    "        col_nuevas.append('row_id')\n",
    "    elif col == '20':\n",
    "        col_nuevas.append('Clasificación')\n",
    "    else:\n",
    "        col_nuevas.append('Atributo' + str(int(col)+1))"
   ]
  },
  {
   "cell_type": "code",
   "execution_count": 5,
   "metadata": {},
   "outputs": [],
   "source": [
    "df.columns = col_nuevas\n",
    "df.drop('row_id', axis=1, inplace=True)\n",
    "df['Clasificación'].replace([1,2], [0,1], inplace=True)"
   ]
  },
  {
   "cell_type": "code",
   "execution_count": 6,
   "metadata": {},
   "outputs": [
    {
     "data": {
      "text/html": [
       "<div>\n",
       "<style scoped>\n",
       "    .dataframe tbody tr th:only-of-type {\n",
       "        vertical-align: middle;\n",
       "    }\n",
       "\n",
       "    .dataframe tbody tr th {\n",
       "        vertical-align: top;\n",
       "    }\n",
       "\n",
       "    .dataframe thead th {\n",
       "        text-align: right;\n",
       "    }\n",
       "</style>\n",
       "<table border=\"1\" class=\"dataframe\">\n",
       "  <thead>\n",
       "    <tr style=\"text-align: right;\">\n",
       "      <th></th>\n",
       "      <th>Atributo1</th>\n",
       "      <th>Atributo2</th>\n",
       "      <th>Atributo3</th>\n",
       "      <th>Atributo4</th>\n",
       "      <th>Atributo5</th>\n",
       "      <th>Atributo6</th>\n",
       "      <th>Atributo7</th>\n",
       "      <th>Atributo8</th>\n",
       "      <th>Atributo9</th>\n",
       "      <th>Atributo10</th>\n",
       "      <th>...</th>\n",
       "      <th>Atributo12</th>\n",
       "      <th>Atributo13</th>\n",
       "      <th>Atributo14</th>\n",
       "      <th>Atributo15</th>\n",
       "      <th>Atributo16</th>\n",
       "      <th>Atributo17</th>\n",
       "      <th>Atributo18</th>\n",
       "      <th>Atributo19</th>\n",
       "      <th>Atributo20</th>\n",
       "      <th>Clasificación</th>\n",
       "    </tr>\n",
       "  </thead>\n",
       "  <tbody>\n",
       "    <tr>\n",
       "      <th>0</th>\n",
       "      <td>A12</td>\n",
       "      <td>30</td>\n",
       "      <td>A34</td>\n",
       "      <td>A40</td>\n",
       "      <td>4249</td>\n",
       "      <td>A61</td>\n",
       "      <td>A71</td>\n",
       "      <td>4</td>\n",
       "      <td>A94</td>\n",
       "      <td>A101</td>\n",
       "      <td>...</td>\n",
       "      <td>A123</td>\n",
       "      <td>28</td>\n",
       "      <td>A143</td>\n",
       "      <td>A152</td>\n",
       "      <td>2</td>\n",
       "      <td>A174</td>\n",
       "      <td>1</td>\n",
       "      <td>A191</td>\n",
       "      <td>A201</td>\n",
       "      <td>1</td>\n",
       "    </tr>\n",
       "    <tr>\n",
       "      <th>1</th>\n",
       "      <td>A14</td>\n",
       "      <td>36</td>\n",
       "      <td>A32</td>\n",
       "      <td>A43</td>\n",
       "      <td>3835</td>\n",
       "      <td>A65</td>\n",
       "      <td>A75</td>\n",
       "      <td>2</td>\n",
       "      <td>A92</td>\n",
       "      <td>A101</td>\n",
       "      <td>...</td>\n",
       "      <td>A121</td>\n",
       "      <td>45</td>\n",
       "      <td>A143</td>\n",
       "      <td>A152</td>\n",
       "      <td>1</td>\n",
       "      <td>A172</td>\n",
       "      <td>1</td>\n",
       "      <td>A192</td>\n",
       "      <td>A201</td>\n",
       "      <td>0</td>\n",
       "    </tr>\n",
       "    <tr>\n",
       "      <th>2</th>\n",
       "      <td>A12</td>\n",
       "      <td>12</td>\n",
       "      <td>A34</td>\n",
       "      <td>A41</td>\n",
       "      <td>1804</td>\n",
       "      <td>A62</td>\n",
       "      <td>A72</td>\n",
       "      <td>3</td>\n",
       "      <td>A93</td>\n",
       "      <td>A101</td>\n",
       "      <td>...</td>\n",
       "      <td>A122</td>\n",
       "      <td>44</td>\n",
       "      <td>A143</td>\n",
       "      <td>A152</td>\n",
       "      <td>1</td>\n",
       "      <td>A173</td>\n",
       "      <td>1</td>\n",
       "      <td>A191</td>\n",
       "      <td>A201</td>\n",
       "      <td>0</td>\n",
       "    </tr>\n",
       "    <tr>\n",
       "      <th>3</th>\n",
       "      <td>A13</td>\n",
       "      <td>12</td>\n",
       "      <td>A31</td>\n",
       "      <td>A49</td>\n",
       "      <td>609</td>\n",
       "      <td>A61</td>\n",
       "      <td>A72</td>\n",
       "      <td>4</td>\n",
       "      <td>A92</td>\n",
       "      <td>A101</td>\n",
       "      <td>...</td>\n",
       "      <td>A121</td>\n",
       "      <td>26</td>\n",
       "      <td>A143</td>\n",
       "      <td>A152</td>\n",
       "      <td>1</td>\n",
       "      <td>A171</td>\n",
       "      <td>1</td>\n",
       "      <td>A191</td>\n",
       "      <td>A201</td>\n",
       "      <td>1</td>\n",
       "    </tr>\n",
       "    <tr>\n",
       "      <th>4</th>\n",
       "      <td>A12</td>\n",
       "      <td>21</td>\n",
       "      <td>A32</td>\n",
       "      <td>A49</td>\n",
       "      <td>2767</td>\n",
       "      <td>A62</td>\n",
       "      <td>A75</td>\n",
       "      <td>4</td>\n",
       "      <td>A91</td>\n",
       "      <td>A101</td>\n",
       "      <td>...</td>\n",
       "      <td>A123</td>\n",
       "      <td>61</td>\n",
       "      <td>A141</td>\n",
       "      <td>A151</td>\n",
       "      <td>2</td>\n",
       "      <td>A172</td>\n",
       "      <td>1</td>\n",
       "      <td>A191</td>\n",
       "      <td>A201</td>\n",
       "      <td>1</td>\n",
       "    </tr>\n",
       "  </tbody>\n",
       "</table>\n",
       "<p>5 rows × 21 columns</p>\n",
       "</div>"
      ],
      "text/plain": [
       "  Atributo1  Atributo2 Atributo3 Atributo4  Atributo5 Atributo6 Atributo7  \\\n",
       "0       A12         30       A34       A40       4249       A61       A71   \n",
       "1       A14         36       A32       A43       3835       A65       A75   \n",
       "2       A12         12       A34       A41       1804       A62       A72   \n",
       "3       A13         12       A31       A49        609       A61       A72   \n",
       "4       A12         21       A32       A49       2767       A62       A75   \n",
       "\n",
       "   Atributo8 Atributo9 Atributo10      ...       Atributo12 Atributo13  \\\n",
       "0          4       A94       A101      ...             A123         28   \n",
       "1          2       A92       A101      ...             A121         45   \n",
       "2          3       A93       A101      ...             A122         44   \n",
       "3          4       A92       A101      ...             A121         26   \n",
       "4          4       A91       A101      ...             A123         61   \n",
       "\n",
       "   Atributo14 Atributo15 Atributo16  Atributo17 Atributo18  Atributo19  \\\n",
       "0        A143       A152          2        A174          1        A191   \n",
       "1        A143       A152          1        A172          1        A192   \n",
       "2        A143       A152          1        A173          1        A191   \n",
       "3        A143       A152          1        A171          1        A191   \n",
       "4        A141       A151          2        A172          1        A191   \n",
       "\n",
       "  Atributo20 Clasificación  \n",
       "0       A201             1  \n",
       "1       A201             0  \n",
       "2       A201             0  \n",
       "3       A201             1  \n",
       "4       A201             1  \n",
       "\n",
       "[5 rows x 21 columns]"
      ]
     },
     "execution_count": 6,
     "metadata": {},
     "output_type": "execute_result"
    }
   ],
   "source": [
    "df.head()"
   ]
  },
  {
   "cell_type": "markdown",
   "metadata": {},
   "source": [
    "### 2.1. Se observa una gran cantidad de atributos categóricos, por lo que se procederá a llevarlos a atributos \"one-hot-encoder\", donde se representa con un 1 o un 0 si el par atributo-categoría está presente."
   ]
  },
  {
   "cell_type": "code",
   "execution_count": 7,
   "metadata": {},
   "outputs": [
    {
     "name": "stdout",
     "output_type": "stream",
     "text": [
      "<class 'pandas.core.frame.DataFrame'>\n",
      "RangeIndex: 900 entries, 0 to 899\n",
      "Data columns (total 21 columns):\n",
      "Atributo1        900 non-null object\n",
      "Atributo2        900 non-null int64\n",
      "Atributo3        900 non-null object\n",
      "Atributo4        900 non-null object\n",
      "Atributo5        900 non-null int64\n",
      "Atributo6        900 non-null object\n",
      "Atributo7        900 non-null object\n",
      "Atributo8        900 non-null int64\n",
      "Atributo9        900 non-null object\n",
      "Atributo10       900 non-null object\n",
      "Atributo11       900 non-null int64\n",
      "Atributo12       900 non-null object\n",
      "Atributo13       900 non-null int64\n",
      "Atributo14       900 non-null object\n",
      "Atributo15       900 non-null object\n",
      "Atributo16       900 non-null int64\n",
      "Atributo17       900 non-null object\n",
      "Atributo18       900 non-null int64\n",
      "Atributo19       900 non-null object\n",
      "Atributo20       900 non-null object\n",
      "Clasificación    900 non-null int64\n",
      "dtypes: int64(8), object(13)\n",
      "memory usage: 147.7+ KB\n"
     ]
    }
   ],
   "source": [
    "df.info()"
   ]
  },
  {
   "cell_type": "code",
   "execution_count": 8,
   "metadata": {},
   "outputs": [
    {
     "data": {
      "text/plain": [
       "Index(['Atributo1', 'Atributo3', 'Atributo4', 'Atributo6', 'Atributo7',\n",
       "       'Atributo9', 'Atributo10', 'Atributo12', 'Atributo14', 'Atributo15',\n",
       "       'Atributo17', 'Atributo19', 'Atributo20'],\n",
       "      dtype='object')"
      ]
     },
     "execution_count": 8,
     "metadata": {},
     "output_type": "execute_result"
    }
   ],
   "source": [
    "aux_df = df.select_dtypes(include='object')\n",
    "one_hot_col = aux_df.columns\n",
    "one_hot_col"
   ]
  },
  {
   "cell_type": "code",
   "execution_count": 9,
   "metadata": {},
   "outputs": [],
   "source": [
    "df_one_hot_encoder = df.copy()\n",
    "df_one_hot_encoder = pd.get_dummies(df_one_hot_encoder, columns = one_hot_col, prefix='')"
   ]
  },
  {
   "cell_type": "code",
   "execution_count": 10,
   "metadata": {},
   "outputs": [
    {
     "data": {
      "text/html": [
       "<div>\n",
       "<style scoped>\n",
       "    .dataframe tbody tr th:only-of-type {\n",
       "        vertical-align: middle;\n",
       "    }\n",
       "\n",
       "    .dataframe tbody tr th {\n",
       "        vertical-align: top;\n",
       "    }\n",
       "\n",
       "    .dataframe thead th {\n",
       "        text-align: right;\n",
       "    }\n",
       "</style>\n",
       "<table border=\"1\" class=\"dataframe\">\n",
       "  <thead>\n",
       "    <tr style=\"text-align: right;\">\n",
       "      <th></th>\n",
       "      <th>Atributo2</th>\n",
       "      <th>Atributo5</th>\n",
       "      <th>Atributo8</th>\n",
       "      <th>Atributo11</th>\n",
       "      <th>Atributo13</th>\n",
       "      <th>Atributo16</th>\n",
       "      <th>Atributo18</th>\n",
       "      <th>Clasificación</th>\n",
       "      <th>_A11</th>\n",
       "      <th>_A12</th>\n",
       "      <th>...</th>\n",
       "      <th>_A152</th>\n",
       "      <th>_A153</th>\n",
       "      <th>_A171</th>\n",
       "      <th>_A172</th>\n",
       "      <th>_A173</th>\n",
       "      <th>_A174</th>\n",
       "      <th>_A191</th>\n",
       "      <th>_A192</th>\n",
       "      <th>_A201</th>\n",
       "      <th>_A202</th>\n",
       "    </tr>\n",
       "  </thead>\n",
       "  <tbody>\n",
       "    <tr>\n",
       "      <th>0</th>\n",
       "      <td>30</td>\n",
       "      <td>4249</td>\n",
       "      <td>4</td>\n",
       "      <td>2</td>\n",
       "      <td>28</td>\n",
       "      <td>2</td>\n",
       "      <td>1</td>\n",
       "      <td>1</td>\n",
       "      <td>0</td>\n",
       "      <td>1</td>\n",
       "      <td>...</td>\n",
       "      <td>1</td>\n",
       "      <td>0</td>\n",
       "      <td>0</td>\n",
       "      <td>0</td>\n",
       "      <td>0</td>\n",
       "      <td>1</td>\n",
       "      <td>1</td>\n",
       "      <td>0</td>\n",
       "      <td>1</td>\n",
       "      <td>0</td>\n",
       "    </tr>\n",
       "    <tr>\n",
       "      <th>1</th>\n",
       "      <td>36</td>\n",
       "      <td>3835</td>\n",
       "      <td>2</td>\n",
       "      <td>4</td>\n",
       "      <td>45</td>\n",
       "      <td>1</td>\n",
       "      <td>1</td>\n",
       "      <td>0</td>\n",
       "      <td>0</td>\n",
       "      <td>0</td>\n",
       "      <td>...</td>\n",
       "      <td>1</td>\n",
       "      <td>0</td>\n",
       "      <td>0</td>\n",
       "      <td>1</td>\n",
       "      <td>0</td>\n",
       "      <td>0</td>\n",
       "      <td>0</td>\n",
       "      <td>1</td>\n",
       "      <td>1</td>\n",
       "      <td>0</td>\n",
       "    </tr>\n",
       "    <tr>\n",
       "      <th>2</th>\n",
       "      <td>12</td>\n",
       "      <td>1804</td>\n",
       "      <td>3</td>\n",
       "      <td>4</td>\n",
       "      <td>44</td>\n",
       "      <td>1</td>\n",
       "      <td>1</td>\n",
       "      <td>0</td>\n",
       "      <td>0</td>\n",
       "      <td>1</td>\n",
       "      <td>...</td>\n",
       "      <td>1</td>\n",
       "      <td>0</td>\n",
       "      <td>0</td>\n",
       "      <td>0</td>\n",
       "      <td>1</td>\n",
       "      <td>0</td>\n",
       "      <td>1</td>\n",
       "      <td>0</td>\n",
       "      <td>1</td>\n",
       "      <td>0</td>\n",
       "    </tr>\n",
       "    <tr>\n",
       "      <th>3</th>\n",
       "      <td>12</td>\n",
       "      <td>609</td>\n",
       "      <td>4</td>\n",
       "      <td>1</td>\n",
       "      <td>26</td>\n",
       "      <td>1</td>\n",
       "      <td>1</td>\n",
       "      <td>1</td>\n",
       "      <td>0</td>\n",
       "      <td>0</td>\n",
       "      <td>...</td>\n",
       "      <td>1</td>\n",
       "      <td>0</td>\n",
       "      <td>1</td>\n",
       "      <td>0</td>\n",
       "      <td>0</td>\n",
       "      <td>0</td>\n",
       "      <td>1</td>\n",
       "      <td>0</td>\n",
       "      <td>1</td>\n",
       "      <td>0</td>\n",
       "    </tr>\n",
       "    <tr>\n",
       "      <th>4</th>\n",
       "      <td>21</td>\n",
       "      <td>2767</td>\n",
       "      <td>4</td>\n",
       "      <td>2</td>\n",
       "      <td>61</td>\n",
       "      <td>2</td>\n",
       "      <td>1</td>\n",
       "      <td>1</td>\n",
       "      <td>0</td>\n",
       "      <td>1</td>\n",
       "      <td>...</td>\n",
       "      <td>0</td>\n",
       "      <td>0</td>\n",
       "      <td>0</td>\n",
       "      <td>1</td>\n",
       "      <td>0</td>\n",
       "      <td>0</td>\n",
       "      <td>1</td>\n",
       "      <td>0</td>\n",
       "      <td>1</td>\n",
       "      <td>0</td>\n",
       "    </tr>\n",
       "  </tbody>\n",
       "</table>\n",
       "<p>5 rows × 62 columns</p>\n",
       "</div>"
      ],
      "text/plain": [
       "   Atributo2  Atributo5  Atributo8  Atributo11  Atributo13  Atributo16  \\\n",
       "0         30       4249          4           2          28           2   \n",
       "1         36       3835          2           4          45           1   \n",
       "2         12       1804          3           4          44           1   \n",
       "3         12        609          4           1          26           1   \n",
       "4         21       2767          4           2          61           2   \n",
       "\n",
       "   Atributo18  Clasificación  _A11  _A12  ...    _A152  _A153  _A171  _A172  \\\n",
       "0           1              1     0     1  ...        1      0      0      0   \n",
       "1           1              0     0     0  ...        1      0      0      1   \n",
       "2           1              0     0     1  ...        1      0      0      0   \n",
       "3           1              1     0     0  ...        1      0      1      0   \n",
       "4           1              1     0     1  ...        0      0      0      1   \n",
       "\n",
       "   _A173  _A174  _A191  _A192  _A201  _A202  \n",
       "0      0      1      1      0      1      0  \n",
       "1      0      0      0      1      1      0  \n",
       "2      1      0      1      0      1      0  \n",
       "3      0      0      1      0      1      0  \n",
       "4      0      0      1      0      1      0  \n",
       "\n",
       "[5 rows x 62 columns]"
      ]
     },
     "execution_count": 10,
     "metadata": {},
     "output_type": "execute_result"
    }
   ],
   "source": [
    "df_one_hot_encoder.head()"
   ]
  },
  {
   "cell_type": "markdown",
   "metadata": {},
   "source": [
    "### 2.2. Separamos nuestro dataframe en atributos y clase a predecir. Haremos predicciones sobre la probabilidad de que un cliente caiga en mora. El resultado de la predicción será el score de riesgo."
   ]
  },
  {
   "cell_type": "code",
   "execution_count": 11,
   "metadata": {},
   "outputs": [],
   "source": [
    "Y = df_one_hot_encoder['Clasificación']\n",
    "df_X = df_one_hot_encoder.drop('Clasificación', axis=1)"
   ]
  },
  {
   "cell_type": "code",
   "execution_count": 12,
   "metadata": {},
   "outputs": [
    {
     "name": "stdout",
     "output_type": "stream",
     "text": [
      "Shape of Y:  (900,)\n",
      "Shape of df_X:  (900, 61)\n"
     ]
    }
   ],
   "source": [
    "print('Shape of Y: ', Y.shape)\n",
    "print('Shape of df_X: ', df_X.shape)"
   ]
  },
  {
   "cell_type": "markdown",
   "metadata": {},
   "source": [
    "## 3. Se procede a estandarizar la data con el fin de escalar la varianza entre atributos con distintas magnitudes, cómo por ejemplo el atributo 5 vs los demás."
   ]
  },
  {
   "cell_type": "code",
   "execution_count": 13,
   "metadata": {},
   "outputs": [
    {
     "name": "stderr",
     "output_type": "stream",
     "text": [
      "c:\\python\\lib\\site-packages\\sklearn\\preprocessing\\data.py:617: DataConversionWarning: Data with input dtype uint8, int64 were all converted to float64 by StandardScaler.\n",
      "  return self.partial_fit(X, y)\n",
      "c:\\python\\lib\\site-packages\\ipykernel_launcher.py:2: DataConversionWarning: Data with input dtype uint8, int64 were all converted to float64 by StandardScaler.\n",
      "  \n"
     ]
    }
   ],
   "source": [
    "scaler = preprocessing.StandardScaler().fit(df_X)\n",
    "X = scaler.transform(df_X)"
   ]
  },
  {
   "cell_type": "markdown",
   "metadata": {},
   "source": [
    "## 4. Se contruye una función para evaluar los distintos clasificadores a utilizar.\n",
    "### Los algoritmos son los siguientes: LogisticRegression, DecisionTreeClassifier, SVM, KNN, GradientBoostingClassifier, RandomForestClassifier.\n",
    "### Se calculan métricas (precision y recall) para distintos thresholds, con la finalidad de elegir un valor que maximice el recall. Esto con el fin de cumplir la regla de negocio “Es 5 veces peor clasificar un cliente como bueno cuando es malo, que malo cuando es bueno\"\n",
    "### No se indagó demasiado sobre los hiper-parámetros de cada algoritmo y en su gran mayoría se usaron los valores por defecto."
   ]
  },
  {
   "cell_type": "code",
   "execution_count": 14,
   "metadata": {},
   "outputs": [],
   "source": [
    "def evaluar_modelo(X, Y, modelo=None, test_size=0.2, cv = 6, class_weight = {0:0.3, 1:0.7}):\n",
    "    \n",
    "    np.random.seed(42)\n",
    "    \n",
    "    X_train, X_test, y_train, y_test = train_test_split(X, Y, test_size=test_size)\n",
    "    \n",
    "    if modelo == None:\n",
    "        print(\"No elegiste modelo\")\n",
    "    elif modelo == \"LogisticRegression\":\n",
    "        clf = linear_model.LogisticRegression(solver = 'liblinear', class_weight=class_weight)\n",
    "    elif modelo == \"DecisionTreeClassifier\":\n",
    "        clf = DecisionTreeClassifier(random_state=42, min_samples_leaf=10, class_weight=class_weight)\n",
    "    elif modelo == \"SVM\":\n",
    "        clf = svm.SVC(random_state=42, probability=True, gamma='scale', class_weight=class_weight, C=1)\n",
    "    elif modelo == \"KNN\":\n",
    "        clf = KNeighborsClassifier(n_neighbors=18)\n",
    "    elif modelo == \"GradientBoostingClassifier\":\n",
    "        clf = GradientBoostingClassifier(random_state=42, n_estimators=1000, learning_rate=0.01, min_samples_leaf=10)\n",
    "    elif modelo == \"RandomForestClassifier\":\n",
    "        clf = RandomForestClassifier(random_state=42, n_estimators=1000, min_samples_leaf=10, class_weight=class_weight)\n",
    "    else:\n",
    "        print(\"Modelo no implementado\")\n",
    "        \n",
    "    model = clf.fit(X_train, y_train)\n",
    "    \n",
    "    cross_validation_score = cross_val_score(clf, X_test, y_test, cv = cv)\n",
    "    print(\"Cross validation scores: \", cross_validation_score)\n",
    "    print(\"Cross validation average score: \", np.average(cross_validation_score))\n",
    "    \n",
    "    y_pred = model.predict_proba(X_test)[:,1]\n",
    "    \n",
    "    thresholds = np.arange(0.2,0.85,0.05)\n",
    "    results = pd.DataFrame(columns=['threshold', 'accuracy', 'precision', 'recall'], index=thresholds)\n",
    "    \n",
    "    for k in thresholds:\n",
    "        y_pred_conf = [1 if x > k else 0 for x in y_pred]\n",
    "        tn, fp, fn, tp = metrics.confusion_matrix(y_test, y_pred_conf, labels=[0, 1]).ravel()\n",
    "        accuracy = (tp + tn)/(tp + fp + fn + tn)\n",
    "        recall = tp / (tp + fn)\n",
    "        precision = tp / (tp + fp)\n",
    "        \n",
    "        results.loc[k,:]= [k, accuracy, precision, recall]\n",
    "        \n",
    "#     print(results)\n",
    "    fig = plt.figure()\n",
    "    plt.plot(results['threshold'], results['accuracy'], 'green', label = \"Accuracy\")\n",
    "    plt.plot(results['threshold'], results['precision'], 'blue', label = 'Precision')\n",
    "    plt.plot(results['threshold'], results['recall'], 'red', label = 'Recall')\n",
    "    plt.xlim(0.2,0.8)\n",
    "    plt.ylim(0.4,1)\n",
    "    plt.xlabel('threshold')\n",
    "    plt.ylabel('Porcentaje')\n",
    "    plt.legend()"
   ]
  },
  {
   "cell_type": "markdown",
   "metadata": {},
   "source": [
    "## 5. Resultados"
   ]
  },
  {
   "cell_type": "markdown",
   "metadata": {},
   "source": [
    "## 5.1. Regresión logística"
   ]
  },
  {
   "cell_type": "code",
   "execution_count": 15,
   "metadata": {},
   "outputs": [
    {
     "name": "stdout",
     "output_type": "stream",
     "text": [
      "Cross validation scores:  [0.80645161 0.67741935 0.8        0.63333333 0.75862069 0.75862069]\n",
      "Cross validation average score:  0.739074280064269\n"
     ]
    },
    {
     "data": {
      "image/png": "[encoded data removed]",
      "text/plain": [
       "<Figure size 432x288 with 1 Axes>"
      ]
     },
     "metadata": {
      "needs_background": "light"
     },
     "output_type": "display_data"
    }
   ],
   "source": [
    "evaluar_modelo(X, Y, \"LogisticRegression\")"
   ]
  },
  {
   "cell_type": "markdown",
   "metadata": {},
   "source": [
    "## 5.2. Árbol de decisiones"
   ]
  },
  {
   "cell_type": "code",
   "execution_count": 16,
   "metadata": {},
   "outputs": [
    {
     "name": "stdout",
     "output_type": "stream",
     "text": [
      "Cross validation scores:  [0.67741935 0.67741935 0.66666667 0.7        0.68965517 0.72413793]\n",
      "Cross validation average score:  0.689216413298727\n"
     ]
    },
    {
     "data": {
      "image/png": "[encoded data removed]",
      "text/plain": [
       "<Figure size 432x288 with 1 Axes>"
      ]
     },
     "metadata": {
      "needs_background": "light"
     },
     "output_type": "display_data"
    }
   ],
   "source": [
    "evaluar_modelo(X, Y, \"DecisionTreeClassifier\")"
   ]
  },
  {
   "cell_type": "markdown",
   "metadata": {},
   "source": [
    "## 5.3. Support vector machine (SVM)"
   ]
  },
  {
   "cell_type": "code",
   "execution_count": 17,
   "metadata": {},
   "outputs": [
    {
     "name": "stdout",
     "output_type": "stream",
     "text": [
      "Cross validation scores:  [0.77419355 0.83870968 0.73333333 0.7        0.79310345 0.79310345]\n",
      "Cross validation average score:  0.7720739092819181\n"
     ]
    },
    {
     "name": "stderr",
     "output_type": "stream",
     "text": [
      "c:\\python\\lib\\site-packages\\ipykernel_launcher.py:40: RuntimeWarning: invalid value encountered in longlong_scalars\n"
     ]
    },
    {
     "data": {
      "image/png": "[encoded data removed]",
      "text/plain": [
       "<Figure size 432x288 with 1 Axes>"
      ]
     },
     "metadata": {
      "needs_background": "light"
     },
     "output_type": "display_data"
    }
   ],
   "source": [
    "evaluar_modelo(X, Y, \"SVM\")"
   ]
  },
  {
   "cell_type": "markdown",
   "metadata": {},
   "source": [
    "## 5.4. Vecinos más cercanos"
   ]
  },
  {
   "cell_type": "code",
   "execution_count": 18,
   "metadata": {},
   "outputs": [
    {
     "name": "stdout",
     "output_type": "stream",
     "text": [
      "Cross validation scores: "
     ]
    },
    {
     "name": "stderr",
     "output_type": "stream",
     "text": [
      "c:\\python\\lib\\site-packages\\ipykernel_launcher.py:40: RuntimeWarning: invalid value encountered in longlong_scalars\n"
     ]
    },
    {
     "name": "stdout",
     "output_type": "stream",
     "text": [
      " [0.74193548 0.70967742 0.7        0.73333333 0.72413793 0.68965517]\n",
      "Cross validation average score:  0.7164565566679025\n"
     ]
    },
    {
     "data": {
      "image/png": "[encoded data removed]",
      "text/plain": [
       "<Figure size 432x288 with 1 Axes>"
      ]
     },
     "metadata": {
      "needs_background": "light"
     },
     "output_type": "display_data"
    }
   ],
   "source": [
    "evaluar_modelo(X, Y, \"KNN\")"
   ]
  },
  {
   "cell_type": "markdown",
   "metadata": {},
   "source": [
    "## 5.5. Gradient Boosting Classifier"
   ]
  },
  {
   "cell_type": "code",
   "execution_count": 19,
   "metadata": {},
   "outputs": [
    {
     "name": "stdout",
     "output_type": "stream",
     "text": [
      "Cross validation scores:  [0.77419355 0.70967742 0.76666667 0.7        0.75862069 0.82758621]\n",
      "Cross validation average score:  0.7561240884933876\n"
     ]
    },
    {
     "data": {
      "image/png": "[encoded data removed]",
      "text/plain": [
       "<Figure size 432x288 with 1 Axes>"
      ]
     },
     "metadata": {
      "needs_background": "light"
     },
     "output_type": "display_data"
    }
   ],
   "source": [
    "evaluar_modelo(X, Y, \"GradientBoostingClassifier\")"
   ]
  },
  {
   "cell_type": "markdown",
   "metadata": {},
   "source": [
    "## 5.6. Random Forest Classifier"
   ]
  },
  {
   "cell_type": "code",
   "execution_count": 20,
   "metadata": {},
   "outputs": [
    {
     "name": "stdout",
     "output_type": "stream",
     "text": [
      "Cross validation scores:  [0.77419355 0.64516129 0.7        0.63333333 0.86206897 0.89655172]\n",
      "Cross validation average score:  0.7518848102830304\n"
     ]
    },
    {
     "name": "stderr",
     "output_type": "stream",
     "text": [
      "c:\\python\\lib\\site-packages\\ipykernel_launcher.py:40: RuntimeWarning: invalid value encountered in longlong_scalars\n"
     ]
    },
    {
     "data": {
      "image/png": "[encoded data removed]",
      "text/plain": [
       "<Figure size 432x288 with 1 Axes>"
      ]
     },
     "metadata": {
      "needs_background": "light"
     },
     "output_type": "display_data"
    }
   ],
   "source": [
    "evaluar_modelo(X, Y, \"RandomForestClassifier\")"
   ]
  },
  {
   "cell_type": "markdown",
   "metadata": {},
   "source": [
    "## Conclusiones\n",
    "### - En general los distintos clasificadores utilizados tienen scores parecidos. Pero lo importante es como se comporta la métrica \"Precision\" y \"Recall\".\n",
    "### - En base al punto anterior y las definiciones de negocio, deberíamos evaluar los distintos algoritmos con un threshold de 0.2~0.3. Haciendo esto el clasificador que mejor se ajusta es SVM con un recall de 82% y precision de %53.\n",
    "### - Estos resultados no son considerados como definitivos, ya que cada algoritmo tiene distintas hiper-parámetros que pueden mejorar la solución, por lo que hay oportunidad de encontrar un clasificador que genere mejores resultados."
   ]
  },
  {
   "cell_type": "code",
   "execution_count": null,
   "metadata": {},
   "outputs": [],
   "source": []
  },
  {
   "cell_type": "code",
   "execution_count": null,
   "metadata": {},
   "outputs": [],
   "source": []
  },
  {
   "cell_type": "code",
   "execution_count": null,
   "metadata": {},
   "outputs": [],
   "source": []
  }
 ],
 "metadata": {
  "kernelspec": {
   "display_name": "Python 3",
   "language": "python",
   "name": "python3"
  },
  "language_info": {
   "codemirror_mode": {
    "name": "ipython",
    "version": 3
   },
   "file_extension": ".py",
   "mimetype": "text/x-python",
   "name": "python",
   "nbconvert_exporter": "python",
   "pygments_lexer": "ipython3",
   "version": "3.7.1"
  }
 },
 "nbformat": 4,
 "nbformat_minor": 2
}
